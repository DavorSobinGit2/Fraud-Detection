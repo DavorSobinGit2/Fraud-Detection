{
  "nbformat": 4,
  "nbformat_minor": 0,
  "metadata": {
    "colab": {
      "provenance": []
    },
    "kernelspec": {
      "name": "python3",
      "display_name": "Python 3"
    },
    "language_info": {
      "name": "python"
    }
  },
  "cells": [
    {
      "cell_type": "markdown",
      "source": [
        "## **Ensemble Methods**\n",
        "\n",
        "## **Davor Sobin**\n",
        "\n",
        "\n",
        "### **Introduction**\n",
        "\n",
        "### **Dataset**\n",
        "  \n",
        "The dataset for this assignment contains transactions made by credit cards in September 2013 by european cardholders. This dataset presents transactions that occurred in two days, where we have 237 frauds out of 142,167 transactions. The dataset is highly unbalanced, the positive class (frauds) account for 0.17% of all transactions.\n",
        "\n",
        "It contains only numerical input variables which are the result of a [PCA transformation](https://en.wikipedia.org/wiki/Principal_component_analysis). Unfortunately, due to confidentiality issues, we cannot provide the original features and more background information about the data. Features V1, V2, … V28 are the principal components obtained with PCA, the only features which have not been transformed with PCA are 'Time' and 'Amount'. Feature 'Time' contains the seconds elapsed between each transaction and the first transaction in the dataset. The feature 'Amount' is the transaction Amount in Euros. Feature 'Class' is the response variable and it takes value 1 in case of fraud and 0 otherwise."
      ],
      "metadata": {
        "id": "2ei_wNjwbMVN"
      }
    },
    {
      "cell_type": "code",
      "source": [
        "# Libraries used\n",
        "import pandas as pd\n",
        "import numpy as np\n",
        "import matplotlib.pyplot as plt\n",
        "%matplotlib inline\n",
        "from sklearn.ensemble import (\n",
        "    AdaBoostClassifier,\n",
        "    RandomForestClassifier\n",
        ")\n",
        "from sklearn.model_selection import StratifiedKFold\n",
        "\n",
        "from sklearn.metrics import (\n",
        "    roc_curve,\n",
        "    roc_auc_score,\n",
        "    RocCurveDisplay,\n",
        "    auc,\n",
        "    accuracy_score,\n",
        "    confusion_matrix\n",
        ")"
      ],
      "metadata": {
        "id": "jETuQ9egbKwd"
      },
      "execution_count": 1,
      "outputs": []
    },
    {
      "cell_type": "markdown",
      "source": [
        "#### **Utilizing the provided credit card data, we will employ methods from sklearn for cross-validation to estimate error.**"
      ],
      "metadata": {
        "id": "04FZuFfB3A2h"
      }
    },
    {
      "cell_type": "code",
      "source": [
        "df_cc = pd.read_csv('cc.csv')"
      ],
      "metadata": {
        "id": "AQmqHOrI3CJf"
      },
      "execution_count": 2,
      "outputs": []
    },
    {
      "cell_type": "code",
      "source": [
        "df_cc.isnull().values.any()\n",
        "\n",
        "count_classes = pd.value_counts(df_cc[\"Class\"], sort=True)\n",
        "count_classes\n",
        "\n",
        "legit = count_classes[0]\n",
        "fraud = count_classes[1]\n",
        "print(f\"Legit count: {legit}\")\n",
        "print(f\"Fraudulant count: {fraud}\")"
      ],
      "metadata": {
        "id": "vhKDbXczEKir",
        "outputId": "decfb718-4f70-4dc8-de91-cb2588e8be94",
        "colab": {
          "base_uri": "https://localhost:8080/"
        }
      },
      "execution_count": 27,
      "outputs": [
        {
          "output_type": "stream",
          "name": "stdout",
          "text": [
            "Legit count: 142167\n",
            "Fraudulant count: 237\n"
          ]
        }
      ]
    },
    {
      "cell_type": "code",
      "source": [
        "fraud = df_cc[df_cc[\"Class\"] == 1]\n",
        "legit = df_cc[df_cc[\"Class\"] == 0]\n",
        "\n",
        "fraud.Amount.describe()"
      ],
      "metadata": {
        "colab": {
          "base_uri": "https://localhost:8080/"
        },
        "id": "78xsrP4E3AmG",
        "outputId": "5821e951-874a-4d42-8bb0-ad21d02d2834"
      },
      "execution_count": 28,
      "outputs": [
        {
          "output_type": "execute_result",
          "data": {
            "text/plain": [
              "count     237.000000\n",
              "mean      118.864852\n",
              "std       224.038331\n",
              "min         0.000000\n",
              "25%         1.000000\n",
              "50%        11.400000\n",
              "75%       111.700000\n",
              "max      1504.930000\n",
              "Name: Amount, dtype: float64"
            ]
          },
          "metadata": {},
          "execution_count": 28
        }
      ]
    },
    {
      "cell_type": "code",
      "source": [
        "legit.Amount.describe()"
      ],
      "metadata": {
        "colab": {
          "base_uri": "https://localhost:8080/"
        },
        "id": "_Z-ryZcY3Tbq",
        "outputId": "3e4dcd18-a8fb-40a2-8725-e846350e660f"
      },
      "execution_count": 29,
      "outputs": [
        {
          "output_type": "execute_result",
          "data": {
            "text/plain": [
              "count    142167.000000\n",
              "mean         88.954197\n",
              "std         252.926782\n",
              "min           0.000000\n",
              "25%           5.520000\n",
              "50%          21.950000\n",
              "75%          77.340000\n",
              "max       25691.160000\n",
              "Name: Amount, dtype: float64"
            ]
          },
          "metadata": {},
          "execution_count": 29
        }
      ]
    },
    {
      "cell_type": "markdown",
      "source": [
        "## **Partition the data for cross validation**\n",
        "\n",
        "\n",
        "\n",
        "Import the dataset and divide it into two parts: 𝑋 (features, stored in `df_X`) and 𝑦 (target, stored in `s_y`). Establish our data partitions.\n",
        "\n",
        "Given the significant imbalance in the dataset, there's concern about the target class being insufficiently represented in a random k-fold split. To address this, we opt for a [stratified k-fold](https://scikit-learn.org/stable/modules/generated/sklearn.model_selection.StratifiedKFold.html) approach, which ensures the preservation of class proportions across our tests. We'll use `𝑘=3`. Create a `StratifiedKFold` instance and utilize its `split` method to fill the training and testing dictionaries.\n",
        "\n",
        "   - `d_train_df_X` : key is the fold number, value is the attribute training dataframe at that fold\n",
        "   - `d_test_df_X`  : key is the fold number, value is the attribute test dataframe at that fold\n",
        "   - `d_train_s_y`  : key is the fold number, value is the target training series at that fold\n",
        "   - `d_train_s_y`  : key is the fold number, value is the target test series at that fold"
      ],
      "metadata": {
        "id": "8rpT4BokbOPW"
      }
    },
    {
      "cell_type": "code",
      "execution_count": 4,
      "metadata": {
        "id": "4Ru9_cKzV8Nw"
      },
      "outputs": [],
      "source": [
        "df_X = df_cc.drop(columns=['Class'])\n",
        "s_y = df_cc['Class']\n",
        "skf = StratifiedKFold(n_splits=3,shuffle=True,random_state=23)\n",
        "\n",
        "\n",
        "d_train_df_X = dict()\n",
        "d_test_df_X = dict()\n",
        "d_train_s_y = dict()\n",
        "d_test_s_y = dict()\n",
        "\n",
        "# Write your code here\n",
        "for i, (train_index, test_index) in enumerate(skf.split(df_X, s_y)):\n",
        "  d_train_df_X[f\"Fold {i}\"] = df_X.loc[train_index]\n",
        "  d_train_s_y[f\"Fold {i}\"] = s_y.loc[train_index]\n",
        "  d_test_df_X[f\"Fold {i}\"] = df_X.loc[test_index]\n",
        "  d_test_s_y[f\"Fold {i}\"] = s_y.loc[test_index]\n"
      ]
    },
    {
      "cell_type": "code",
      "source": [
        "print(d_train_df_X.keys())\n",
        "d_train_df_X['Fold 0']\n",
        "d_train_s_y['Fold 0']"
      ],
      "metadata": {
        "colab": {
          "base_uri": "https://localhost:8080/"
        },
        "id": "s8YOPRrMj0mG",
        "outputId": "1d701aa8-84f6-424b-d90c-b51e896d0c0f"
      },
      "execution_count": 18,
      "outputs": [
        {
          "output_type": "stream",
          "name": "stdout",
          "text": [
            "dict_keys(['Fold 0', 'Fold 1', 'Fold 2'])\n"
          ]
        },
        {
          "output_type": "execute_result",
          "data": {
            "text/plain": [
              "2         0\n",
              "3         0\n",
              "4         0\n",
              "5         0\n",
              "6         0\n",
              "         ..\n",
              "142396    0\n",
              "142398    0\n",
              "142400    0\n",
              "142402    0\n",
              "142403    0\n",
              "Name: Class, Length: 94936, dtype: int64"
            ]
          },
          "metadata": {},
          "execution_count": 18
        }
      ]
    },
    {
      "cell_type": "code",
      "source": [
        "# Observe the test data and verify that the target training is as equally distributed as possible\n",
        "for key in d_test_s_y.keys():\n",
        "    print(d_test_s_y[key].value_counts())"
      ],
      "metadata": {
        "id": "OeGYsMElpNdk",
        "colab": {
          "base_uri": "https://localhost:8080/"
        },
        "outputId": "46f8e79b-fb6e-4a70-e5a2-aff75f8ef9c2"
      },
      "execution_count": 5,
      "outputs": [
        {
          "output_type": "stream",
          "name": "stdout",
          "text": [
            "0    47389\n",
            "1       79\n",
            "Name: Class, dtype: int64\n",
            "0    47389\n",
            "1       79\n",
            "Name: Class, dtype: int64\n",
            "0    47389\n",
            "1       79\n",
            "Name: Class, dtype: int64\n"
          ]
        }
      ]
    },
    {
      "cell_type": "markdown",
      "source": [
        "## **Implementing AdaBoost Classifier**\n",
        "\n",
        "As we learned in class, AdaBoost is a boosting ensemble method that starts with a weak classifier and iteratively adds to it by focusing on the misclassified instances. In many AdaBoost implementations, \"Decision Stumps\" (decision trees with a single split) are used as the base classifier.\n",
        "\n",
        "While AdaBoost can work with various base classifiers, the default in `Scikit-learn`'s implementation is `DecisionTreeClassifier(max_depth=1)`, which is essentially a decision stump (a weak classifier).\n",
        "\n",
        "In this question, you will implement a function called `train_and_plot_adaboost()` that will do the following:\n",
        "\n",
        "* Model training and prediction: Instantiate the AdaBoost classifier with the specified parameters: `AdaBoostClassifier(n_estimators=25, random_state=23)`\n",
        "\n",
        "* `fit` to train the model.For predictions, you can use `predict` method for class predictions or `predict_proba` method to get the probability of being in class 0 or class 1. You will do cross-validation by loop over the 𝑘 folds using the dictionaries from the first problem. For each fold, calculate the following metrics:\n",
        "    * Accuracy\n",
        "    * True Positive Rate (TPR)\n",
        "    * Positive Predictive Value (PPV)\n",
        "    * False Positive Rate (FPR)\n",
        "    * ROC Curve Plotting:\n",
        "\n",
        "* Plot the ROC curve for each fold. You may use the roc_curve, RocCurveDisplay, from Scikit-learn. There is a great example in the documentation on plotting ROC curves in cross validation that is helpful.\n",
        "\n",
        "\n",
        "* After looping through all the folds, save the predictions from the 3rd fold into a variable named `y_hat_ab`. This is the variable your function will return.\n",
        "\n",
        "* Your function should have a complete docstring.\n",
        "\n",
        "\n",
        "AdaBoost focuses on instances that were misclassified in previous iterations, which can lead to improved performance. Depending on the data size and the number of estimators, AdaBoost can take some time to run. Please be patient and allow it a few minutes if needed.\n"
      ],
      "metadata": {
        "id": "1if1dH4ofJKl"
      }
    },
    {
      "cell_type": "code",
      "source": [
        "def train_and_plot_adaboost():\n",
        "  '''\n",
        "  Trains an AdaBoost classifier using decision stumps as weak learners on provided\n",
        "  data. Computes accuracy, TPR (True Positive Rate), PPV(Positive Predictive Value),\n",
        "  and FPR (False Positive Rate) for each fold in cross-validation.\n",
        "  Plots ROC curve for each fold.\n",
        "  Parameters:\n",
        "    - None: Relies on globally defined datasets and split indices\n",
        "  Data used:\n",
        "    - d_train_df_X: Dictionary of training data features for each fold\n",
        "    - d_train_s_y: Dictionary of training data labels for each fold\n",
        "    - d_test_df_X: Dictionary of validation data features for each fold\n",
        "    - d_test_s_y: Dictionary of validation data labels for each fold\n",
        "  Returns:\n",
        "    - y_had_ab: Predictions for the thrid fold.\n",
        "  '''\n",
        "  k = 3\n",
        "  acc_ab = np.zeros(k)\n",
        "  tpr_ab = np.zeros(k)\n",
        "  ppv_ab = np.zeros(k)\n",
        "  fpr_ab = np.zeros(k)\n",
        "\n",
        "\n",
        "  fig, ax = plt.subplots()\n",
        "  y_hat_ab = None\n",
        "\n",
        "  # Complete this function\n",
        "  for i, key in enumerate(d_train_df_X.keys()):\n",
        "      print(\"Working on {}\".format(key))\n",
        "      clf = AdaBoostClassifier(n_estimators=25, random_state=23)\n",
        "      clf.fit(d_train_df_X[key], d_train_s_y[key])\n",
        "      y_score = clf.decision_function(d_test_df_X[key])\n",
        "      y_pred = clf.predict(d_test_df_X[key])\n",
        "      fpr, tpr, thresh = roc_curve(d_test_s_y[key], y_score)\n",
        "      auc_val = auc(fpr, tpr)\n",
        "\n",
        "      RocCurveDisplay(fpr=fpr,\n",
        "                      tpr=tpr,\n",
        "                      roc_auc=auc_val,\n",
        "                      estimator_name=f\"Fold {key}\").plot(ax=ax)\n",
        "      acc_ab[i] = accuracy_score(d_test_s_y[key], y_pred)\n",
        "      tn, fp, fn, tp = confusion_matrix(d_test_s_y[key], y_pred).ravel()\n",
        "      tpr_ab[i] = tp / (tp+fn)\n",
        "      fpr_ab[i] = fp / (fp+tn)\n",
        "      ppv_ab[i] = tp / (tp+fp)\n",
        "\n",
        "\n",
        "      if key == \"Fold 2\":\n",
        "        y_hat_ab = y_pred\n",
        "\n",
        "\n",
        "\n",
        "\n",
        "  print('The min, mean, and max TPR are: {:.2f}, {:.2f}, and {:.2f}'.format(tpr_ab.min(), tpr_ab.mean(), tpr_ab.max()))\n",
        "  print('The min, mean, and max PPV are: {:.2f}, {:.2f}, and {:.2f}'.format(ppv_ab.min(), ppv_ab.mean(), ppv_ab.max()))\n",
        "  print('The min, mean, and max ACC are: {:.2f}, {:.2f}, and {:.2f}'.format(acc_ab.min(), acc_ab.mean(), acc_ab.max()))\n",
        "\n",
        "\n",
        "  # plot the ROC Curve\n",
        "  plt.title(\"ROC Curves for AdaBoost across folds\")\n",
        "  plt.show()\n",
        "\n",
        "  return y_hat_ab\n",
        "\n",
        "\n",
        "y_hat_ab = train_and_plot_adaboost()\n"
      ],
      "metadata": {
        "id": "QyLd57HUV8_2",
        "colab": {
          "base_uri": "https://localhost:8080/",
          "height": 576
        },
        "outputId": "a424e08b-9e84-4181-a10a-68e617761e3c"
      },
      "execution_count": 6,
      "outputs": [
        {
          "output_type": "stream",
          "name": "stdout",
          "text": [
            "Working on Fold 0\n",
            "Working on Fold 1\n",
            "Working on Fold 2\n",
            "The min, mean, and max TPR are: 0.62, 0.65, and 0.71\n",
            "The min, mean, and max PPV are: 0.75, 0.79, and 0.82\n",
            "The min, mean, and max ACC are: 1.00, 1.00, and 1.00\n"
          ]
        },
        {
          "output_type": "display_data",
          "data": {
            "text/plain": [
              "<Figure size 640x480 with 1 Axes>"
            ],
            "image/png": "[encoded data removed]"
          },
          "metadata": {}
        }
      ]
    },
    {
      "cell_type": "markdown",
      "source": [
        "### **Implementing The Random Forest Classifier and Testing Its Performance**\n",
        "\n",
        "Random Forest is an ensemble method that constructs a multitude of decision trees during training. For predictions, the mode of the classes (classification) of individual trees is used. The trees are built completely with no pruning. Hence, every leaf in the tree will be pure, but individual trees might be overfitted to the training set.\n",
        "\n",
        "In this question, you will implement a function called `train_and_plot_randomforest()` where you will implement the following:\n",
        "\n",
        "* While building the decision trees, at every internal node, randomly select 𝑝 attributes. Identify the best split that minimizes impurity among these 𝑝 attributes. The parameter 𝑝 corresponds to the `max_features` parameter in the `Scikit-learn`'s Random Forest Classifier.\n",
        "\n",
        "**Model Training**\n",
        "* Instantiate the Random Forest classifier with the specified parameters:\n",
        "`RandomForestClassifier(criterion=\"entropy\", max_features=\"sqrt\", random_state=23)`. `fit` to train the model. For predictions, you can use `predict` method for class predictions. `predict_proba` method to get the probability of being in class 0 or class 1. These probabilities are used when creating ROC curves.\n",
        "\n",
        "**Cross Validation**\n",
        "\n",
        "* Loop over the 𝑘 folds using the dictionaries from the first problem.\n",
        "For each fold, calculate the following metrics:\n",
        "* Accuracy\n",
        "* True Positive Rate (TPR)\n",
        "* Positive Predictive Value (PPV)\n",
        "* False Positive Rate (FPR)\n",
        "\n",
        "**ROC Curve Plotting**\n",
        "\n",
        "* Using the probabilities obtained from `predict_proba`, compute the ROC values.\n",
        "* Plot the ROC curve for each fold. You can utilize the `RocCurveDisplay` from `Scikit-learn`.\n",
        "* Refer to the Scikit-learn documentation for an example on plotting ROC curves in cross-validation.\n",
        "\n",
        "**Saving Predictions**\n",
        "\n",
        "* After looping through all the folds, save the predictions from the 3rd fold into a variable named `y_hat_rf`. This is what your function will return.\n",
        "\n"
      ],
      "metadata": {
        "id": "m4n_GGDQZzvS"
      }
    },
    {
      "cell_type": "code",
      "source": [
        "def train_and_plot_randomforest():\n",
        "    '''\n",
        "    Trains a Random Forest classifier on the provided training data and plots the ROC curve\n",
        "    for each fold in the cross-validation process.\n",
        "\n",
        "    The function uses a Random Forest with specified hyperparameters. For each fold in the\n",
        "    cross-validation, the function computes accuracy, TPR, PPV, and FPR, and plots the\n",
        "    corresponding ROC curve. The ROC curve is generated using the class probabilities\n",
        "    for the positive class from the Random Forest classifier.\n",
        "\n",
        "    Parameters:\n",
        "    None. The function relies on globally defined datasets and split indices.\n",
        "\n",
        "    Returns:\n",
        "    y_hat : numpy array\n",
        "        Predictions for the instances in the test set for the 3rd fold.\n",
        "\n",
        "    Note:\n",
        "    This function assumes that certain variables like training and test sets are\n",
        "    defined in the global namespace.\n",
        "    '''\n",
        "    k = 3\n",
        "    acc_rf = np.zeros(k)\n",
        "    tpr_rf = np.zeros(k)\n",
        "    ppv_rf = np.zeros(k)\n",
        "    fpr_rf = np.zeros(k)\n",
        "\n",
        "    fold_count = 0\n",
        "    fig, ax = plt.subplots()\n",
        "    y_hat_rf = None\n",
        "\n",
        "    # Complete this function\n",
        "    for i, key in enumerate(d_train_df_X.keys()):\n",
        "\n",
        "        print(\"Working on {}\".format(key))\n",
        "\n",
        "        # Train RandomForest classifier\n",
        "        clf = RandomForestClassifier(criterion=\"entropy\", max_features=\"sqrt\", random_state=23)\n",
        "        clf.fit(d_train_df_X[key], d_train_s_y[key])\n",
        "        pred = clf.predict(d_test_df_X[key])\n",
        "\n",
        "\n",
        "        # Get the probability scores for the positive class\n",
        "        pred_prob = clf.predict_proba(d_test_df_X[key])[:, 1]\n",
        "\n",
        "        # Compute the ROC values\n",
        "        fpr, tpr, thresh = roc_curve(d_test_s_y[key], pred_prob)\n",
        "\n",
        "\n",
        "        # Compute the AUC (Area Under the Curve)\n",
        "        auc_val = auc(fpr, tpr)\n",
        "\n",
        "\n",
        "        # Plot the ROC curve using RocCurveDisplay\n",
        "        RocCurveDisplay(fpr=fpr,\n",
        "                        tpr=tpr,\n",
        "                        roc_auc=auc_val,\n",
        "                        estimator_name=f\"Fold {key}\").plot(ax=ax)\n",
        "\n",
        "\n",
        "\n",
        "        # Accuracy\n",
        "        acc_rf[i] = accuracy_score(d_test_s_y[key], pred)\n",
        "\n",
        "\n",
        "        tn, fp, fn, tp = confusion_matrix(d_test_s_y[key], pred).ravel()\n",
        "        # True positive rate\n",
        "\n",
        "        tpr_rf[i] = tp / (tp+fn)\n",
        "        fpr_rf[i] = fp / (fp+tn)\n",
        "        ppv_rf[i] = tp / (tp+fp)\n",
        "\n",
        "\n",
        "        if key == \"Fold 2\":\n",
        "          y_hat_rf = pred\n",
        "\n",
        "\n",
        "\n",
        "                                                                                                          # add epsilon to avoid division by zero\n",
        "\n",
        "\n",
        "\n",
        "    print('The min, mean, and max TPR are: {:.2f}, {:.2f}, and {:.2f}'.format(tpr_rf.min(), tpr_rf.mean(), tpr_rf.max()))\n",
        "    print('The min, mean, and max PPV are: {:.2f}, {:.2f}, and {:.2f}'.format(ppv_rf.min(), ppv_rf.mean(), ppv_rf.max()))\n",
        "    print('The min, mean, and max ACC are: {:.2f}, {:.2f}, and {:.2f}'.format(acc_rf.min(), acc_rf.mean(), acc_rf.max()))\n",
        "\n",
        "    #plot the ROC curve\n",
        "\n",
        "    plt.show()\n",
        "\n",
        "    return y_hat_rf\n",
        "\n",
        "\n",
        "y_hat_rf = train_and_plot_randomforest()"
      ],
      "metadata": {
        "id": "ooz8240zV9G9",
        "colab": {
          "base_uri": "https://localhost:8080/",
          "height": 553
        },
        "outputId": "a5c8dcf9-635c-4103-ccd3-14aea65a9529"
      },
      "execution_count": 7,
      "outputs": [
        {
          "output_type": "stream",
          "name": "stdout",
          "text": [
            "Working on Fold 0\n",
            "Working on Fold 1\n",
            "Working on Fold 2\n",
            "The min, mean, and max TPR are: 0.75, 0.78, and 0.80\n",
            "The min, mean, and max PPV are: 0.92, 0.93, and 0.95\n",
            "The min, mean, and max ACC are: 1.00, 1.00, and 1.00\n"
          ]
        },
        {
          "output_type": "display_data",
          "data": {
            "text/plain": [
              "<Figure size 640x480 with 1 Axes>"
            ],
            "image/png": "[encoded data removed]"
          },
          "metadata": {}
        }
      ]
    },
    {
      "cell_type": "markdown",
      "source": [
        "### **Calculate the Cost of Fraud**\n",
        "\n",
        "In the above problems, we saved the predictions of the 3rd fold into the variables `y_hat_ab` and `y_hat_rf` for the AdaBoost and RandomForest models respectively.\n",
        "\n",
        "Now, the Bank wants you to tell them how much money they are going to save if they deploy either of these fraud algorithms to the real-time payment processing system.  Assume that there is not a currently deployed fraud detection algorithm.  \n",
        "\n",
        "For every fraudulent transaction that is not predicted as fraudulent the bank looses twice that much money.  So, a fradulent charge for €10 is undectected, it costs the bank €20.  Also, if a charge is predicted as fradulent, but wasn't, it costs the bank a flat fee of €3 in customer service support to communicate with the customer, and mark the possible fraud as a normal transaction.\n",
        "\n",
        "Using the 3rd fold test sample, calculate how much money the Bank will save with each algorithm, and make a recommendation of which algorithm to deploy to production. All amounts are given in Euros."
      ],
      "metadata": {
        "id": "-rkrZXJojsxg"
      }
    },
    {
      "cell_type": "code",
      "source": [
        "# First, calculate the current cost to the bank with no fraud decection\n",
        "fold_3_amount = d_test_df_X[\"Fold 2\"]['Amount']\n",
        "current_cost = fold_3_amount[d_test_s_y[\"Fold 2\"] == 1].sum()*2.0\n",
        "print(\"The current cost to the bank is €{:.2f}\".format(current_cost))"
      ],
      "metadata": {
        "id": "A6bQB-lijcy-",
        "colab": {
          "base_uri": "https://localhost:8080/"
        },
        "outputId": "69fa431d-f82a-4f2a-f2be-2807a414eeda"
      },
      "execution_count": 30,
      "outputs": [
        {
          "output_type": "stream",
          "name": "stdout",
          "text": [
            "The current cost to the bank is €22484.74\n"
          ]
        }
      ]
    },
    {
      "cell_type": "code",
      "source": [
        "# FN and FP for AdaBoost\n",
        "fn_mask_ab = (d_test_s_y[\"Fold 2\"] == 1) & (y_hat_ab == 0)\n",
        "fp_mask_ab = (d_test_s_y[\"Fold 2\"] == 0) & (y_hat_ab == 1)"
      ],
      "metadata": {
        "id": "X3RCbaHQ1Ge2"
      },
      "execution_count": 31,
      "outputs": []
    },
    {
      "cell_type": "code",
      "source": [
        "# Write your code here\n",
        "cost_ab_undetected_fraud = fold_3_amount[fn_mask_ab].sum() * 2.0\n",
        "cost_ab_false_fraud = fp_mask_ab.sum() * 3\n",
        "print(\"The bank will save €{:.2f} by deploying the AdaBoost algorithm\".format(current_cost-cost_ab_undetected_fraud-cost_ab_false_fraud))"
      ],
      "metadata": {
        "id": "KpkmUIFWjfTn",
        "colab": {
          "base_uri": "https://localhost:8080/"
        },
        "outputId": "a00e12a8-f83f-4a23-908a-55794746bc88"
      },
      "execution_count": 32,
      "outputs": [
        {
          "output_type": "stream",
          "name": "stdout",
          "text": [
            "The bank will save €13946.42 by deploying the AdaBoost algorithm\n"
          ]
        }
      ]
    },
    {
      "cell_type": "code",
      "source": [
        "# FN and FP for ForestRegression\n",
        "fn_mask_rf = (d_test_s_y[\"Fold 2\"] == 1) & (y_hat_rf == 0)\n",
        "fp_mask_rf = (d_test_s_y[\"Fold 2\"] == 0) & (y_hat_rf == 1)"
      ],
      "metadata": {
        "id": "sj_FAO9U5pIA"
      },
      "execution_count": 33,
      "outputs": []
    },
    {
      "cell_type": "code",
      "source": [
        "# Write your code here\n",
        "cost_rf_undetected_fraud = fold_3_amount[fn_mask_rf].sum() * 2.0\n",
        "cost_rf_false_fraud = fp_mask_rf.sum() * 3\n",
        "print(\"The bank will save €{:.2f} by deploying the Random Forest algorithm\".format(current_cost-cost_rf_undetected_fraud-cost_rf_false_fraud))"
      ],
      "metadata": {
        "id": "eJ7KL2f3ji-f",
        "colab": {
          "base_uri": "https://localhost:8080/"
        },
        "outputId": "f4ee939e-a533-49b5-e524-14e23573225d"
      },
      "execution_count": 34,
      "outputs": [
        {
          "output_type": "stream",
          "name": "stdout",
          "text": [
            "The bank will save €18121.36 by deploying the Random Forest algorithm\n"
          ]
        }
      ]
    },
    {
      "cell_type": "markdown",
      "source": [
        "#**Which Model should the bank deploy?**\n",
        "When we're considering which model the bank should deploy in prouduction between AdaBoost and RandomForest, a key factor is the balance between computational efficiency and prediction accuracy, especially in the context of fraud detection.\n",
        "\n",
        "\n",
        "\n",
        "*   **AdaBoost**: AdaBoost is a very attractive option for systems where computational resources are limited or when rapid decision-making is critical. For a bank that values quick transaction processing and has a high volume of transactions to assess in real-time, the speed of AdaBoost could be a significant benefit. However, AdaBoost might be more sensitive to noisy data and outliers, which are not uncommon in financial datasets, potentially leading to a higher rate of false positives or negatives compared to other more sophisticated models.\n",
        "*   **RandomForest**: RandomForest on the other hand, is known to be more accurate, robuts and able to handle non-linear data more effectively. It is less prone to overfitting than AdaBoost and can provide more accurate results, especially in complex fraud detection scenarios where interactions between variables are non-linear and subtle. The downside, however, is that RandomForest requires more computational power and time to train and make predictions, due to the complextiy of constructing and evaluating multiple trees.\n",
        "\n",
        "Given these considerations, while **AdaBoost** offers the advantage of speed and efficiency, which is crucial for real-time fraud detection in a fast-paced banking environment, **RandomForest** provides superior accuracy and robustness, which could lead to better detection of fraudulent transactions\n",
        "\n",
        "**In conclusion**: While AdaBoost does offer speed and efficiency, the bank should consider deploying **RandomForest** in production for its fraud detection needs. The argument here is straightforward: the additional savings from the superior accuracy of RandomForest - by more effectively identifying fraudulent transactions and reducing the costs associated with misclassifications - outweighs the benefits of the speed and efficiency provided by AdaBoost. In the context of fraud detection, where financial stakes are high, investing in more accurate, albeit computationally intensive, models like RandomForest could result in substantial net savings and more secure banking environment for customers.\n",
        "\n"
      ],
      "metadata": {
        "id": "iatMwqN36sty"
      }
    }
  ]
}